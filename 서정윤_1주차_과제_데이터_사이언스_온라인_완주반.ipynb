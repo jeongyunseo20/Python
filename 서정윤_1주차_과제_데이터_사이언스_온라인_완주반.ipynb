{
  "nbformat": 4,
  "nbformat_minor": 0,
  "metadata": {
    "colab": {
      "name": "서정윤 - 1주차 과제 - 데이터 사이언스 온라인 완주반.ipynb",
      "provenance": [],
      "collapsed_sections": [],
      "include_colab_link": true
    },
    "kernelspec": {
      "name": "python3",
      "display_name": "Python 3"
    }
  },
  "cells": [
    {
      "cell_type": "markdown",
      "metadata": {
        "id": "view-in-github",
        "colab_type": "text"
      },
      "source": [
        "<a href=\"https://colab.research.google.com/github/jeongyunseo20/Python/blob/master/%EC%84%9C%EC%A0%95%EC%9C%A4_1%EC%A3%BC%EC%B0%A8_%EA%B3%BC%EC%A0%9C_%EB%8D%B0%EC%9D%B4%ED%84%B0_%EC%82%AC%EC%9D%B4%EC%96%B8%EC%8A%A4_%EC%98%A8%EB%9D%BC%EC%9D%B8_%EC%99%84%EC%A3%BC%EB%B0%98.ipynb\" target=\"_parent\"><img src=\"https://colab.research.google.com/assets/colab-badge.svg\" alt=\"Open In Colab\"/></a>"
      ]
    },
    {
      "cell_type": "markdown",
      "metadata": {
        "id": "gy8srx_SmhFW",
        "colab_type": "text"
      },
      "source": [
        "### 1. 컨벤션에 대해서\n",
        "(각 2점)\n",
        "\n",
        " 식별자 이름의 형태를 통해 직관적으로 이것이 함수인지, 변수인지 혹은 클래스명을 바로 알 수 있습니다.\n",
        "\n",
        "\n",
        " 저희가 아직 실질적으로 함수, 클래스를 만드는 방법을 배우지는 않았지만, 미리 컨벤션 규칙을 익히려 합니다.\n",
        "\n",
        " 아래 단어를 활용하여 변수명, 함수명, 클래스명을 컨벤션 규칙에 따라 작성해주세요.\n",
        "\n",
        " *customer list*"
      ]
    },
    {
      "cell_type": "markdown",
      "metadata": {
        "colab_type": "text",
        "id": "gxHljF4NfLPM"
      },
      "source": [
        "# O\n"
      ]
    },
    {
      "cell_type": "code",
      "metadata": {
        "id": "8Vgd0u9ZzGsE",
        "colab_type": "code",
        "colab": {}
      },
      "source": [
        "# (1) 아래에 %%%% 를 지우고 위 단어로 컨벤션에 맞게 함수명을 작성해주세요.\n",
        "\n",
        "def customer_list():\n",
        "  pass"
      ],
      "execution_count": null,
      "outputs": []
    },
    {
      "cell_type": "code",
      "metadata": {
        "id": "j8CAIcVOz36p",
        "colab_type": "code",
        "colab": {}
      },
      "source": [
        "# (2) 아래에 %%%% 를 지우고 위 단어로 컨벤션에 맞게 변수명을 입력해주세요.\n",
        "\n",
        "customer_list = 900"
      ],
      "execution_count": null,
      "outputs": []
    },
    {
      "cell_type": "code",
      "metadata": {
        "id": "zjhKnxBp0KOt",
        "colab_type": "code",
        "colab": {}
      },
      "source": [
        "# (3) 아래에 %%%% 를 지우고 위 단어로 컨벤션에 맞게 클래스명을 입력해주세요.\n",
        "# class 아래에 def, self 등 코드는 지금은 신경쓰지 않으셔도 됩니다.\n",
        "\n",
        "class CustomerList(object):\n",
        "  def __init__(self):\n",
        "    self.name = \"Hello\""
      ],
      "execution_count": null,
      "outputs": []
    },
    {
      "cell_type": "markdown",
      "metadata": {
        "id": "_zjj1fI-1QvE",
        "colab_type": "text"
      },
      "source": [
        "\n",
        "\n",
        "```\n",
        "# 코드로 형식 지정됨\n",
        "```\n",
        "\n",
        "### 2. 주피터 노트북 (Colab) 에서 Shell command (bash) 사용하기\n",
        "(3 점)\n",
        "\n",
        "분석 업무를 본인 PC 에서 작업을 한다면, 파일을 찾거나 저장, 이동을 윈도우 탐색기(macOS 는 Finder) 로 편리하게 작업이 가능합니다.\n",
        "\n",
        "그러나 마우스를 활용할 수 없는 환경에서는 Shell command 를 통해 원하는 파일을 가져오거나, 저장, 삭제, 이동 등을 할 수 있습니다.\n",
        "\n",
        "여기에서는 주피터 노트북에서 Shell command 를 사용하는 방법을 간단히 알아보겠습니다.\n",
        "\n"
      ]
    },
    {
      "cell_type": "markdown",
      "metadata": {
        "colab_type": "text",
        "id": "PyGj06t-gXZ5"
      },
      "source": [
        "# O\n"
      ]
    },
    {
      "cell_type": "code",
      "metadata": {
        "id": "nuh6DOHU0Vo_",
        "colab_type": "code",
        "colab": {}
      },
      "source": [
        "# 여기에 있는 코드를 그냥 실행해 주시고, 답은 다음칸에 입력하시면 됩니다.\n",
        "\n",
        "!touch 설명서.txt"
      ],
      "execution_count": null,
      "outputs": []
    },
    {
      "cell_type": "code",
      "metadata": {
        "id": "JYdBiqQb2Jqs",
        "colab_type": "code",
        "colab": {
          "base_uri": "https://localhost:8080/",
          "height": 36
        },
        "outputId": "5c336d1c-11d3-477c-934c-42e105af48f5"
      },
      "source": [
        "# Shell command 를 사용하여 파일 목록을 출력해주는 코드를 작성해보세요.\n",
        "!ls"
      ],
      "execution_count": null,
      "outputs": [
        {
          "output_type": "stream",
          "text": [
            "sample_data  설명서.txt\n"
          ],
          "name": "stdout"
        }
      ]
    },
    {
      "cell_type": "markdown",
      "metadata": {
        "id": "H4JpK2TqYqoJ",
        "colab_type": "text"
      },
      "source": [
        "### 3. 숫자(int, float) 와 문자(str) 를 합치는 방법\n",
        "(5 점)\n",
        "\n",
        "아래 a + b 를 실행 했을 때 ```1문자``` 로 합칠 수 있게 해주세요."
      ]
    },
    {
      "cell_type": "markdown",
      "metadata": {
        "colab_type": "text",
        "id": "dSSkt48egYP0"
      },
      "source": [
        "# O\n"
      ]
    },
    {
      "cell_type": "code",
      "metadata": {
        "id": "2HDZBJnOaTJ0",
        "colab_type": "code",
        "colab": {
          "base_uri": "https://localhost:8080/",
          "height": 36
        },
        "outputId": "0acc6a8b-24a8-4d9e-cbd1-e3f5cb530ccd"
      },
      "source": [
        "a = 1\n",
        "b = \"문자\"\n",
        "str(a) + b"
      ],
      "execution_count": null,
      "outputs": [
        {
          "output_type": "execute_result",
          "data": {
            "application/vnd.google.colaboratory.intrinsic+json": {
              "type": "string"
            },
            "text/plain": [
              "'1문자'"
            ]
          },
          "metadata": {
            "tags": []
          },
          "execution_count": 5
        }
      ]
    },
    {
      "cell_type": "markdown",
      "metadata": {
        "colab_type": "text",
        "id": "qnQSO49ku2ra"
      },
      "source": [
        "### 4. 전화번호에서 지역번호만 가져오기\n",
        "(5 점)\n",
        "\n",
        "아래 tel 이라는 변수에 전화번호가 저장되어 있습니다. 여기에서 **인덱스 값**을 활용하여 지역번호만 code 라는 변수에 저장하는 코드를 작성해주세요."
      ]
    },
    {
      "cell_type": "markdown",
      "metadata": {
        "colab_type": "text",
        "id": "-aN2XX_WgY1n"
      },
      "source": [
        "# O\n"
      ]
    },
    {
      "cell_type": "code",
      "metadata": {
        "colab_type": "code",
        "id": "Qw-OtX_kvH90",
        "colab": {
          "base_uri": "https://localhost:8080/",
          "height": 36
        },
        "outputId": "189bc963-96e0-431f-b555-ae62a0aefc23"
      },
      "source": [
        "tel = \"031-1111-2222\"\n",
        "\n",
        "# 아래 코드를 완성해주세요.\n",
        "# 코드 일부분을 입력해놓았습니다. 활용하셔도 되고 혹은 지우고 원하는 방법으로 만들어보세요.\n",
        "code = tel[0:3]\n",
        "\n",
        "\n",
        "\n",
        "# 결과를 확인해보는 코드입니다. \n",
        "print(code)"
      ],
      "execution_count": null,
      "outputs": [
        {
          "output_type": "stream",
          "text": [
            "031\n"
          ],
          "name": "stdout"
        }
      ]
    },
    {
      "cell_type": "markdown",
      "metadata": {
        "colab_type": "text",
        "id": "vzNYO1cXy0go"
      },
      "source": [
        "### 5. 반대로 순서를 뒤집기\n",
        "(5 점)\n",
        "\n",
        "order 라는 변수에 1,2,3,4,5,6,7,8,9 문자열이 저장되어 있습니다. 이를 거꾸로 출력하는 코드를 작성해주세요. \n",
        "\n",
        "**반드시 인덱스 기능을 활용해야 합니다.**"
      ]
    },
    {
      "cell_type": "markdown",
      "metadata": {
        "colab_type": "text",
        "id": "723oW_cRgZR0"
      },
      "source": [
        "# O\n"
      ]
    },
    {
      "cell_type": "code",
      "metadata": {
        "colab_type": "code",
        "id": "fkdXf_nCy1XW",
        "colab": {
          "base_uri": "https://localhost:8080/",
          "height": 36
        },
        "outputId": "296712c2-2635-4596-faef-853b5ba0d6af"
      },
      "source": [
        "order = \"1,2,3,4,5,6,7,8,9\"\n",
        "\n",
        "# 아래에 코드를 완성해주세요.\n",
        "# 코드 일부분을 입력해놓았습니다. 활용하셔도 되고 혹은 지우고 원하는 방법으로 만들어보세요.\n",
        "result = order[::-1]\n",
        "\n",
        "\n",
        "# 결과를 확인해보는 코드입니다.\n",
        "result"
      ],
      "execution_count": null,
      "outputs": [
        {
          "output_type": "execute_result",
          "data": {
            "application/vnd.google.colaboratory.intrinsic+json": {
              "type": "string"
            },
            "text/plain": [
              "'9,8,7,6,5,4,3,2,1'"
            ]
          },
          "metadata": {
            "tags": []
          },
          "execution_count": 13
        }
      ]
    },
    {
      "cell_type": "markdown",
      "metadata": {
        "id": "M2CnSSMdcjP4",
        "colab_type": "text"
      },
      "source": [
        "### 6. 리스트에서 가장 마지막 값을 뽑아내기(출력 후 삭제)\n",
        "(5 점)\n",
        "\n",
        "노트북을 구매하기 위해 4개의 제품을 선택했고 이를 리스트에 저장했습니다.\n",
        "\n",
        "products = [\"A\", \"B\", \"C\", \"D\"]\n",
        "\n",
        "여기에서 리스트에 있는 **함수**를 활용하여 가장 마지막 제품을 하나 뽑아서 c 라는 변수에 저장해주세요."
      ]
    },
    {
      "cell_type": "markdown",
      "metadata": {
        "colab_type": "text",
        "id": "Z_lyQvsNgZpE"
      },
      "source": [
        "# O\n"
      ]
    },
    {
      "cell_type": "code",
      "metadata": {
        "id": "y2Pr7aC0gfF6",
        "colab_type": "code",
        "colab": {
          "base_uri": "https://localhost:8080/",
          "height": 36
        },
        "outputId": "6f174e10-252f-4125-af56-424136f001ff"
      },
      "source": [
        "products = [\"A\", \"B\", \"C\", \"D\"]\n",
        "\n",
        "# 아래에 코드를 완성해주세요.\n",
        "# 코드 일부분을 입력해놓았습니다. 활용하셔도 되고 혹은 지우고 원하는 방법으로 만들어보세요.\n",
        "c = products.pop()\n",
        "c\n",
        "\n"
      ],
      "execution_count": null,
      "outputs": [
        {
          "output_type": "execute_result",
          "data": {
            "application/vnd.google.colaboratory.intrinsic+json": {
              "type": "string"
            },
            "text/plain": [
              "'D'"
            ]
          },
          "metadata": {
            "tags": []
          },
          "execution_count": 15
        }
      ]
    },
    {
      "cell_type": "markdown",
      "metadata": {
        "colab_type": "text",
        "id": "7myweZOJAPmF"
      },
      "source": [
        "### 7. 연산자를 본격적으로 사용해보기 전에 기능을 복습해봅시다.\n",
        "(각 2점)\n",
        "\n",
        "아래 칸에 있는 설명에 맞는 코드를 하나씩 작성해주세요.\n",
        "\n",
        "참고 : 주피터 노트북에서는(Colab 포함) print() 없이 코드를 작성하면 하단에 마지막 코드에 대한 결과값만 출력 됩니다. 한 칸에서 모든 변수의 값을 출력하고 싶으시면 print() 함수를 꼭 써주세요."
      ]
    },
    {
      "cell_type": "markdown",
      "metadata": {
        "colab_type": "text",
        "id": "8VSq4MCYgaLo"
      },
      "source": [
        "# O\n"
      ]
    },
    {
      "cell_type": "code",
      "metadata": {
        "colab_type": "code",
        "id": "PtXUaLqoBIoy",
        "colab": {
          "base_uri": "https://localhost:8080/",
          "height": 73
        },
        "outputId": "0e056cf1-5707-4226-cd4b-a7affd81bd94"
      },
      "source": [
        "# 아래 3줄 코드들은 수정하지 마세요.\n",
        "a = 100\n",
        "b = 200\n",
        "datas = [\"김\", \"박\", \"이\", \"홍\", \"정\"]\n",
        "\n",
        "# 문제1) a 변수에 이미 저장된 100 에서 300 을 더하여 저장해주세요. (할당 연산)\n",
        "\n",
        "a += 300\n",
        "print(a)\n",
        "\n",
        "# 문제2) a 와 b 값이 같은지 다른지를 확인해보세요. (비교 연산)\n",
        "result = a == b\n",
        "print(result)\n",
        "# 문제3) datas 리스트안에 \"이\" 라는 값이 있는지 찾아보는 코드를 작성해주세요. (멤버 연산)\n",
        "member = \"이\" in datas\n",
        "print(member)"
      ],
      "execution_count": null,
      "outputs": [
        {
          "output_type": "stream",
          "text": [
            "400\n",
            "False\n",
            "True\n"
          ],
          "name": "stdout"
        }
      ]
    },
    {
      "cell_type": "markdown",
      "metadata": {
        "colab_type": "text",
        "id": "LIUHCxGwcLYF"
      },
      "source": [
        "### 8. 형변환\n",
        "(3 점)\n",
        "\n",
        "아래 4개의 변수에는 각각 설문 응답여부를 1(응답), 0(미응답) 형태로 저장되어 있습니다.\n",
        "이를 boolean 타입을 변경하려 합니다. 형변환을 통해 boolean 타입으로 같은 이름의 변수에 덮어써주세요.\n",
        "\n",
        "즉 1(응답) 이면 True, 0(미응답) 은 False 로 출력 해주세요.\n",
        "\n"
      ]
    },
    {
      "cell_type": "markdown",
      "metadata": {
        "colab_type": "text",
        "id": "gg6LKchggatB"
      },
      "source": [
        "# O\n"
      ]
    },
    {
      "cell_type": "code",
      "metadata": {
        "colab_type": "code",
        "id": "PpuKfTfhaw9G",
        "colab": {
          "base_uri": "https://localhost:8080/",
          "height": 92
        },
        "outputId": "c105a6ca-59a9-469c-c55c-ec874ce584f3"
      },
      "source": [
        "# 아래 4줄 코드는 수정하지 마세요.\n",
        "check1 = 1\n",
        "check2 = 0\n",
        "check3 = 0\n",
        "check4 = 1\n",
        "\n",
        "# 아래에 코드를 작성해주세요. \n",
        "bool(check1)\n",
        "bool(check2)\n",
        "bool(check3)\n",
        "bool(check4)\n",
        "\n",
        "print(bool(check1))\n",
        "print(bool(check2))\n",
        "print(bool(check3))\n",
        "print(bool(check4))\n",
        "\n"
      ],
      "execution_count": null,
      "outputs": [
        {
          "output_type": "stream",
          "text": [
            "True\n",
            "False\n",
            "False\n",
            "True\n"
          ],
          "name": "stdout"
        }
      ]
    },
    {
      "cell_type": "markdown",
      "metadata": {
        "colab_type": "text",
        "id": "KBeT_45Cc3D2"
      },
      "source": [
        "### 9. dict 는 정말 순서가 없는 데이터 타입인가요?\n",
        "(3 점)\n",
        "\n",
        "앞서 강의에서 dict 는 순서가 없는 데이터 타입으로 배웠습니다.\n",
        "\n",
        "먼저 아래 datas 라는 dict 데이터 타입을 생성하는 코드를 실행해주세요."
      ]
    },
    {
      "cell_type": "markdown",
      "metadata": {
        "colab_type": "text",
        "id": "2VCX7F45gbNo"
      },
      "source": [
        "# O\n"
      ]
    },
    {
      "cell_type": "code",
      "metadata": {
        "colab_type": "code",
        "id": "wCXkzFM3Qu8h",
        "colab": {}
      },
      "source": [
        "datas = {\n",
        "    0: \"바나나\",\n",
        "    1: \"딸기\",\n",
        "    2: \"망고\"\n",
        "}"
      ],
      "execution_count": null,
      "outputs": []
    },
    {
      "cell_type": "code",
      "metadata": {
        "colab_type": "code",
        "id": "wvW8HpACtnvL",
        "colab": {
          "base_uri": "https://localhost:8080/",
          "height": 36
        },
        "outputId": "91e4abee-fd4d-4907-ffd3-38415778cdac"
      },
      "source": [
        "datas[0]"
      ],
      "execution_count": null,
      "outputs": [
        {
          "output_type": "execute_result",
          "data": {
            "application/vnd.google.colaboratory.intrinsic+json": {
              "type": "string"
            },
            "text/plain": [
              "'바나나'"
            ]
          },
          "metadata": {
            "tags": []
          },
          "execution_count": 25
        }
      ]
    },
    {
      "cell_type": "code",
      "metadata": {
        "colab_type": "code",
        "id": "Bvz5HtK1tpCC",
        "colab": {}
      },
      "source": [
        "# 문제) datas[0] 를 입력하여 '바나나' 가 출력되었는데, \n",
        "# 앞에 배운 인덱스 개념으로 값을 가져온건지 key 이름으로 가져온것인지\n",
        "# 코드가 아닌 일반 문장으로 적어주세요.\n",
        "\n",
        "# 아래에 답을 적어주세요.\n",
        "# 답 : key값을 가져온 것입니다.\n",
        "\n"
      ],
      "execution_count": null,
      "outputs": []
    },
    {
      "cell_type": "markdown",
      "metadata": {
        "colab_type": "text",
        "id": "1CctPnWBi6o5"
      },
      "source": [
        "### 10. 나이에 따른 버스 요금\n",
        "(5 점)\n",
        "\n",
        "사용자에게 나이(변수명 : age)를 입력받은 후, 아래의 운임요금(변수명 : fare) 기준에 맞게 버스 요금을 계산해주세요.\n",
        "\n",
        "- 7세 이하 : 0원\n",
        "- 8세 이상 ~ 20세 이하 : 700원\n",
        "- 21세 이상 : 1200원\n",
        "\n",
        "참고 : 변수명은 예시이며 Python 변수명 규칙에 따라 자유롭게 작성하시면 됩니다.\n"
      ]
    },
    {
      "cell_type": "markdown",
      "metadata": {
        "colab_type": "text",
        "id": "yDvHbo1mgbvn"
      },
      "source": [
        "# O\n"
      ]
    },
    {
      "cell_type": "code",
      "metadata": {
        "colab_type": "code",
        "id": "3f_ud59eisE4",
        "colab": {}
      },
      "source": [
        "# 여기에 코드를 작성해주세요.\n",
        "age = input(\"나이를 입력하세요 : \")\n",
        "\n",
        "def fare(age) :\n",
        "  result = \"\"\n",
        "  if age < 7 :\n",
        "        print(\"0원\")\n",
        "  elif age >= 8 and age < 20 :\n",
        "        print(\"700원\")\n",
        "  else:\n",
        "        print(\"1200원\")\n",
        "\n",
        "fare(int(age))\n"
      ],
      "execution_count": null,
      "outputs": []
    },
    {
      "cell_type": "markdown",
      "metadata": {
        "id": "XoALAT15M2nh",
        "colab_type": "text"
      },
      "source": [
        "### 11. 4번째 고객마다 상품권 증정 \n",
        "\n",
        "(5 점)\n",
        "\n",
        "방문하는 고객 중 5번째 마다 상품권을 증정( status = \"상품권 증정\" ) 하는 코드를 작성해주세요."
      ]
    },
    {
      "cell_type": "markdown",
      "metadata": {
        "colab_type": "text",
        "id": "tLsrcVOzgcRC"
      },
      "source": [
        "# O\n"
      ]
    },
    {
      "cell_type": "code",
      "metadata": {
        "id": "bHxCD-woK00t",
        "colab_type": "code",
        "colab": {}
      },
      "source": [
        "# 여기에 코드를 작성해주세요\n",
        "\n",
        "for i in range(1,51):    \n",
        "    if i % 5 == 0 :\n",
        "      print(i, \"상품권 증정\")\n",
        "    else:\n",
        "      print(i, \"증정하지 않음\")\n",
        "    \n",
        "    if i > 50:    \n",
        "        break \n"
      ],
      "execution_count": null,
      "outputs": []
    },
    {
      "cell_type": "code",
      "metadata": {
        "id": "bLLgz0DnRGmw",
        "colab_type": "code",
        "colab": {
          "base_uri": "https://localhost:8080/",
          "height": 167
        },
        "outputId": "b6cc3b57-58b5-4dcb-a39b-74c990657ca5"
      },
      "source": [
        "# 출력 결과 예"
      ],
      "execution_count": null,
      "outputs": [
        {
          "output_type": "stream",
          "text": [
            "count : 1 , 증정하지 않음\n",
            "count : 4 , 증정하지 않음\n",
            "count : 5 , 상품권 증정\n",
            "count : 10 , 상품권 증정\n",
            "count : 15 , 상품권 증정\n",
            "count : 20 , 상품권 증정\n",
            "count : 8 , 증정하지 않음\n",
            "count : 7 , 증정하지 않음\n"
          ],
          "name": "stdout"
        }
      ]
    },
    {
      "cell_type": "markdown",
      "metadata": {
        "id": "C73aTqaR5Tp2",
        "colab_type": "text"
      },
      "source": [
        "# 반복문(특히 while) 을 작성하시다가 무한 루프가 발생하면\n",
        "\n",
        "코드를 실행 하셨다가 강제로 중단하려면 \n",
        "- Colab\n",
        "  - ctrl + M, I 누르면 중단됩니다.\n",
        "  - 단축키가 작동되지 않으면 '런타임' -> '실행 중단' 을 눌러도 됩니다.\n",
        "- Jupyter Notebook/Lab\n",
        "  - esc 키를 누릅니다.\n",
        "  - 키보드 i 를 두 번 누릅니다."
      ]
    },
    {
      "cell_type": "markdown",
      "metadata": {
        "id": "xqzt3MvfJa1z",
        "colab_type": "text"
      },
      "source": [
        "### 12. Dictionary 에 계좌 잔액을 모두 더하는 코드 작성\n",
        "\n",
        "(3 점)\n",
        "\n",
        "accounts 라는 딕셔너리의 잔액 (value) 을 total 이라는 변수에 모두 더하여 출력해주세요.\n"
      ]
    },
    {
      "cell_type": "markdown",
      "metadata": {
        "colab_type": "text",
        "id": "cZE6Cvuygc_6"
      },
      "source": [
        "# O\n"
      ]
    },
    {
      "cell_type": "code",
      "metadata": {
        "id": "-UBEUlbFKU4w",
        "colab_type": "code",
        "colab": {
          "base_uri": "https://localhost:8080/",
          "height": 36
        },
        "outputId": "b5c6f70b-cfc7-4242-c4d7-e5e70e16a0a2"
      },
      "source": [
        "accounts = {\"A계좌\": 2322000, \"B계좌\": 34443000, \"C계좌\": 6888000}\n",
        "\n",
        "# 여기에 코드를 작성해주세요.\n",
        "total = sum(accounts.values())\n",
        "\n",
        "print(total)"
      ],
      "execution_count": null,
      "outputs": [
        {
          "output_type": "stream",
          "text": [
            "43653000\n"
          ],
          "name": "stdout"
        }
      ]
    },
    {
      "cell_type": "markdown",
      "metadata": {
        "id": "KzujwTCLGiBs",
        "colab_type": "text"
      },
      "source": [
        "### 13. List Comprehension 으로 코드 작성해보기\n",
        "\n",
        "(3 점)\n",
        "\n",
        "아래와 같이 리스트 요소 중에  '음수' 가 있다면 0 으로 바꿔주는 코드를 List Comprehension 으로 작성해보세요.\n",
        "\n"
      ]
    },
    {
      "cell_type": "markdown",
      "metadata": {
        "colab_type": "text",
        "id": "8Wg_gbmngddM"
      },
      "source": [
        "# O\n"
      ]
    },
    {
      "cell_type": "code",
      "metadata": {
        "id": "PcNxDpdAH0kh",
        "colab_type": "code",
        "colab": {
          "base_uri": "https://localhost:8080/",
          "height": 36
        },
        "outputId": "398435ae-454e-49ad-b003-e8f03649be7b"
      },
      "source": [
        "numbers = [100, 200, -100, -50, 400, 700]\n",
        "\n",
        "# 여기에 코드를 작성해주세요.\n",
        "\n",
        "results = [0 if data < 0 else data \n",
        "           for data in numbers]\n",
        "\n",
        "print(results)"
      ],
      "execution_count": null,
      "outputs": [
        {
          "output_type": "stream",
          "text": [
            "[100, 200, 0, 0, 400, 700]\n"
          ],
          "name": "stdout"
        }
      ]
    },
    {
      "cell_type": "markdown",
      "metadata": {
        "colab_type": "text",
        "id": "9KDhxkaMueBY"
      },
      "source": [
        "### 14. 점심 메뉴 골라주는 함수\n",
        "(3 점)\n",
        "\n",
        "1. lunch_selector 라는 함수에 1개 이상의 음식을 입력받도록 해주세요.\n",
        "2. 랜덤 함수를 활용하여 입력 받은 음식 중 하나를 랜덤으로 선택하여 리턴 해줍니다."
      ]
    },
    {
      "cell_type": "markdown",
      "metadata": {
        "colab_type": "text",
        "id": "BRVe9msIgdxt"
      },
      "source": [
        "# O\n"
      ]
    },
    {
      "cell_type": "code",
      "metadata": {
        "colab_type": "code",
        "id": "XKdU9wNBuZZk",
        "colab": {}
      },
      "source": [
        "import random\n",
        "\n",
        "# 아래 함수에 코드를 작성해주세요.\n",
        "num = random.randint(1,4)\n",
        "\n",
        "def lunch_selector(num):\n",
        "  if num == 1:\n",
        "    return \"햄버거\"\n",
        "  elif num == 2:\n",
        "    return \"피자\"\n",
        "  elif num == 3:\n",
        "    return\"파스타\"\n",
        "\n",
        "lunch_selector(num)"
      ],
      "execution_count": null,
      "outputs": []
    },
    {
      "cell_type": "code",
      "metadata": {
        "colab_type": "code",
        "id": "Pi741w62vM1P",
        "colab": {
          "base_uri": "https://localhost:8080/",
          "height": 34
        },
        "outputId": "8a30e356-1d34-4145-9508-4ef0a61fb79c"
      },
      "source": [
        "# 예제 코드\n",
        "lunch_selector(\"짜장면\", \"짬뽕\", \"탕수육\")"
      ],
      "execution_count": null,
      "outputs": [
        {
          "output_type": "execute_result",
          "data": {
            "text/plain": [
              "'탕수육'"
            ]
          },
          "metadata": {
            "tags": []
          },
          "execution_count": 42
        }
      ]
    },
    {
      "cell_type": "markdown",
      "metadata": {
        "colab_type": "text",
        "id": "EfBwenSSczBf"
      },
      "source": [
        "### 15. 중복되는 코드를 하나의 함수로 정리하기\n",
        "(3 점)\n",
        "\n",
        "학점을 계산하는 코드입니다. 두 명의 학생을 비교하는데 조건문을 각 학생별로 구현되어 있어 코드가 비효율적으로 작성되어 있습니다.\n",
        "\n",
        "함수를 활용하여 코드를 개선해주세요."
      ]
    },
    {
      "cell_type": "markdown",
      "metadata": {
        "colab_type": "text",
        "id": "DqjFhJwughgx"
      },
      "source": [
        "# O\n"
      ]
    },
    {
      "cell_type": "code",
      "metadata": {
        "colab_type": "code",
        "id": "Y5cy4tgyvS94",
        "colab": {
          "base_uri": "https://localhost:8080/",
          "height": 55
        },
        "outputId": "83e8ab5b-0648-465a-d108-f80c63c459e8"
      },
      "source": [
        "student1_score = 70\n",
        "student1_grade = \"\"\n",
        "\n",
        "if student1_score > 90:\n",
        "  student1_grade = \"A\"\n",
        "elif student1_score >= 80:\n",
        "  student1_grade = \"B\"\n",
        "elif student1_score >= 70:\n",
        "  student1_grade = \"C\"\n",
        "elif student1_score >= 60:\n",
        "  student1_grade = \"D\"\n",
        "else:\n",
        "  student1_grade = \"F\"\n",
        "\n",
        "print(student1_grade)\n",
        "\n",
        "student2_score = 50\n",
        "student2_grade = \"\"\n",
        "\n",
        "if student2_score > 90:\n",
        "  student2_grade = \"A\"\n",
        "elif student2_score >= 80:\n",
        "  student2_grade = \"B\"\n",
        "elif student2_score >= 70:\n",
        "  student2_grade = \"C\"\n",
        "elif student2_score >= 60:\n",
        "  student2_grade = \"D\"\n",
        "else:\n",
        "  student2_grade = \"F\"\n",
        "\n",
        "print(student2_grade)"
      ],
      "execution_count": null,
      "outputs": [
        {
          "output_type": "stream",
          "text": [
            "C\n",
            "F\n"
          ],
          "name": "stdout"
        }
      ]
    },
    {
      "cell_type": "code",
      "metadata": {
        "colab_type": "code",
        "id": "HO22vtlCdzMR",
        "colab": {
          "base_uri": "https://localhost:8080/",
          "height": 36
        },
        "outputId": "f48c6ed5-90e3-4086-808c-437b5c0e97e0"
      },
      "source": [
        "# 여기에 위 학점 계산 코드를 함수를 활용하여 중복 코드를 제거하여 코드를 개선해주세요.\n",
        "\n",
        "# 아래 함수에 코드를 작성해주세요. \n",
        "def set_grade(score):\n",
        "  if score > 90:\n",
        "    print(\"A\")\n",
        "  elif score >= 80:\n",
        "    print(\"B\")\n",
        "  elif score >= 70:\n",
        "    print(\"C\")\n",
        "  elif score >= 60:\n",
        "    print(\"D\")\n",
        "  else:\n",
        "    print(\"F\")\n",
        "\n",
        "set_grade(77)"
      ],
      "execution_count": null,
      "outputs": [
        {
          "output_type": "stream",
          "text": [
            "C\n"
          ],
          "name": "stdout"
        }
      ]
    },
    {
      "cell_type": "markdown",
      "metadata": {
        "id": "mnx6VVolrlNf",
        "colab_type": "text"
      },
      "source": [
        "### 16. 리스트에 들어 있는 요소 구분하기\n",
        "\n",
        "(5 점)\n",
        "\n",
        "과일 선호도 조사를 하여 나온 결과가 리스트에 저장되어 있습니다. \"사과\", \"바나나\", \"오렌지\" 가 각각 3~5개씩 들어 있습니다.\n",
        "**조건문**을 활용하여 리스트에 있는 요소를 ```apple```, ```banana```, ```orange``` 의 리스트에 추가해주세요.\n",
        "\n",
        "논리적인 문제해결 단계를 연습하기 위해 외부 패키지 사용을 하지 말아주세요.\n",
        "\n",
        "#### ToDo\n",
        "1. 먼저 코드를 작성하기 전에 강의영상에서 다룬 것 처럼 **논리적인 문제해결 순서**를 적어주세요. \n",
        "2. 작성하신 논리적인 문제해결에 알맞은 코드를 작성해주세요.\n",
        "\n",
        "\n",
        "#### 결과 예\n",
        "\n",
        "```python\n",
        "print(apple)\n",
        "\n",
        "[\"바나나\", \"바나나\", \"바나나\"]\n",
        "```\n"
      ]
    },
    {
      "cell_type": "markdown",
      "metadata": {
        "colab_type": "text",
        "id": "l1kl9gnWgl9i"
      },
      "source": [
        "# O\n"
      ]
    },
    {
      "cell_type": "code",
      "metadata": {
        "colab_type": "code",
        "id": "b7P4amFOxrXA",
        "colab": {
          "base_uri": "https://localhost:8080/",
          "height": 73
        },
        "outputId": "030f3d27-8230-4461-ab7a-74236e429f35"
      },
      "source": [
        "fruits = [\"바나나\", \"사과\", \"사과\", \"오렌지\", \"오렌지\", \"바나나\", \"바나나\", \"사과\", \"사과\", \"오렌지\", \"사과\", \"오렌지\"]\n",
        "# apple = [i for i in fruits if i[0] =='사' else pass]\n",
        "# 논리적인 문제해결 순서를 \"주석 형태로\" 작성하시고 그 아랫줄에 코드를 작성해주세요.\n",
        "\n",
        "# 사과 추출, 저장\n",
        "apple = [data for data in fruits if data[0] == \"사\"]\n",
        "print(apple)\n",
        "\n",
        "# 오렌지 추출, 저장\n",
        "orange = [data for data in fruits if data[0] == \"오\"]\n",
        "print(orange)\n",
        "\n",
        "# 바나나 추출, 저장\n",
        "banana = [data for data in fruits if data[0] == \"바\"]\n",
        "print(banana)"
      ],
      "execution_count": null,
      "outputs": [
        {
          "output_type": "stream",
          "text": [
            "['사과', '사과', '사과', '사과', '사과']\n",
            "['오렌지', '오렌지', '오렌지', '오렌지']\n",
            "['바나나', '바나나', '바나나']\n"
          ],
          "name": "stdout"
        }
      ]
    },
    {
      "cell_type": "markdown",
      "metadata": {
        "id": "JqLK_Ow05Oz5",
        "colab_type": "text"
      },
      "source": [
        "### 17. 미국식 날짜 표기를 한국식으로 변환\n",
        "\n",
        "(4 점)\n",
        "\n",
        "**월/일/연도** 형태로 저장된 ```usa_date``` 를 한국식 표기인 **연도/월/일** 로 바꿔서 저장해주세요.\n",
        "\n",
        "논리적인 문제해결 단계를 연습하기 위해 외부 패키지 사용을 하지 말아주세요.\n",
        "\n",
        "#### ToDo\n",
        "1. 먼저 코드를 작성하기 전에 강의영상에서 다룬 것 처럼 **논리적인 문제해결 순서**를 적어주세요. \n",
        "2. 작성하신 논리적인 문제해결에 알맞은 코드를 작성해주세요."
      ]
    },
    {
      "cell_type": "markdown",
      "metadata": {
        "colab_type": "text",
        "id": "SScyIw_rgnK4"
      },
      "source": [
        "# O\n"
      ]
    },
    {
      "cell_type": "code",
      "metadata": {
        "id": "O9w1vpmh65MT",
        "colab_type": "code",
        "colab": {
          "base_uri": "https://localhost:8080/",
          "height": 36
        },
        "outputId": "ca5fdf06-8fbf-4b9b-f1cd-5d1d3b24b776"
      },
      "source": [
        "usa_date = \"03/20/2020\"\n",
        "\n",
        "# 논리적인 문제해결 순서를 \"주석 형태로\" 작성하시고 그 아랫줄에 코드를 작성해주세요.\n",
        "\n",
        "# 문자열로 변환\n",
        "a = str(usa_date)\n",
        "\n",
        "# 인덱스, 연/월/일 순으로\n",
        "a[6:10], a[5], a[0:3], a[3:5] \n",
        "\n",
        "# 문자열 덧셈, 저장\n",
        "kor_date = a[6:10] + a[5] + a[0:3] + a[3:5]\n",
        "\n",
        "print(kor_date)"
      ],
      "execution_count": null,
      "outputs": [
        {
          "output_type": "stream",
          "text": [
            "2020/03/20\n"
          ],
          "name": "stdout"
        }
      ]
    },
    {
      "cell_type": "markdown",
      "metadata": {
        "id": "ZnJl43anvdzz",
        "colab_type": "text"
      },
      "source": [
        "### 18. docstring 작성해보기\n",
        "\n",
        "(3 점)\n",
        "\n",
        "강의영상에서 docstring 작성 방법을 다시 확인해보며 아래 함수에 알맞은 docstring 을 작성해주세요. \n",
        "\n",
        "강의영상을 참고하거나 Google 검색에서 'python docstring' 를 찾아서 작성 방법을 확인해주세요. 일부 키워드를 제외하고 한글로 작성하셔도 됩니다.\n",
        "\n",
        "#### 작성할 내용\n",
        "\n",
        "- 함수의 간단한 기능 설명\n",
        "- 함수에 들어갈 parameter 설명 (변수명, 자료형)\n",
        "- 함수 리턴시 리턴값 자료형\n",
        "\n"
      ]
    },
    {
      "cell_type": "markdown",
      "metadata": {
        "colab_type": "text",
        "id": "yA1xkG8_gnpi"
      },
      "source": [
        "# O\n"
      ]
    },
    {
      "cell_type": "code",
      "metadata": {
        "id": "cIcHMns8zGZt",
        "colab_type": "code",
        "colab": {}
      },
      "source": [
        "def calc(option, num1 = 100, num2 = 100):\n",
        "  \"\"\"\n",
        "  Return 덧셈 or 곱셈 결과값(int or float).\n",
        "\n",
        "  option : 덧셈 or 곱셈 선택(str),\n",
        "  아무것도 지정하지 않을 시, 0 반환.\n",
        "  \n",
        "  매개변수(int or float) 지정하지 않을 시, \n",
        "  num1과 num2의 디폴트 파라미터인 100이 사용됨.\n",
        "  \n",
        "  \"\"\"\n",
        "  if option == \"더하기\":\n",
        "    total = num1 + num2\n",
        "  elif option == \"곱하기\":\n",
        "    total = num1 * num2\n",
        "  else:\n",
        "    total = 0\n",
        "\n",
        "  return total"
      ],
      "execution_count": null,
      "outputs": []
    },
    {
      "cell_type": "markdown",
      "metadata": {
        "colab_type": "text",
        "id": "glh_4J8g4WXD"
      },
      "source": [
        "### 19. 함수 내에서 전역(global) 변수 값 가져오고 변경하기\n",
        "\n",
        "(3 점)\n",
        "\n",
        "editor() 함수를 호출하면, 전역 변수인 result 의 값 \"apple\" 를 \"banana\" 로 변경하도록 코드를 작성해주세요."
      ]
    },
    {
      "cell_type": "markdown",
      "metadata": {
        "colab_type": "text",
        "id": "frEpo9R0goAl"
      },
      "source": [
        "# O\n"
      ]
    },
    {
      "cell_type": "code",
      "metadata": {
        "colab_type": "code",
        "id": "mZ6H7EmF4IVn",
        "colab": {
          "base_uri": "https://localhost:8080/",
          "height": 36
        },
        "outputId": "b03bf38d-4bcd-4104-c8a0-6a04c9044fc1"
      },
      "source": [
        "result = \"apple\"\n",
        "\n",
        "def editor():\n",
        "  global result\n",
        "  result = \"banana\"\n",
        "\n",
        "editor()\n",
        "print(result)"
      ],
      "execution_count": null,
      "outputs": [
        {
          "output_type": "stream",
          "text": [
            "banana\n"
          ],
          "name": "stdout"
        }
      ]
    },
    {
      "cell_type": "markdown",
      "metadata": {
        "colab_type": "text",
        "id": "wu6mICa-98r0"
      },
      "source": [
        "### 20. lambda 함수로 구현하기\n",
        "\n",
        "(5 점)\n",
        "\n",
        "아래 함수를 lambda 형식으로 구현해보세요."
      ]
    },
    {
      "cell_type": "markdown",
      "metadata": {
        "colab_type": "text",
        "id": "agRBaDnPgoaw"
      },
      "source": [
        "# O\n"
      ]
    },
    {
      "cell_type": "code",
      "metadata": {
        "colab_type": "code",
        "id": "wvMD7m8E5M_M",
        "colab": {
          "base_uri": "https://localhost:8080/",
          "height": 36
        },
        "outputId": "8327c79a-38a7-45e9-fb48-3d7869a663cc"
      },
      "source": [
        "def add(num):\n",
        "  return num + 10\n",
        "\n",
        "print(add(5))"
      ],
      "execution_count": null,
      "outputs": [
        {
          "output_type": "stream",
          "text": [
            "15\n"
          ],
          "name": "stdout"
        }
      ]
    },
    {
      "cell_type": "code",
      "metadata": {
        "colab_type": "code",
        "id": "XzhTh3Zl-WnQ",
        "colab": {
          "base_uri": "https://localhost:8080/",
          "height": 36
        },
        "outputId": "5db11f8d-45d3-4610-80a2-f8f76db19c20"
      },
      "source": [
        "# 여기에 위 add 함수와 같은 기능을 하는 lambda 함수를 구현해보세요. \n",
        "\n",
        "add_lambda = lambda num : num + 10\n",
        "\n",
        "print(add_lambda(5))"
      ],
      "execution_count": null,
      "outputs": [
        {
          "output_type": "stream",
          "text": [
            "15\n"
          ],
          "name": "stdout"
        }
      ]
    },
    {
      "cell_type": "markdown",
      "metadata": {
        "colab_type": "text",
        "id": "iDv2jACTPP4d"
      },
      "source": [
        "### 21. callback function 으로 계산기 만들기\n",
        "\n",
        "(5 점)\n",
        "\n",
        "지난 시간에 만들어 보았던 \"더하기\", \"곱하기\" 를 계산해주는 함수를 callback function 으로 구현해보세요.\n",
        "\n",
        "#### 코드\n",
        "```python\n",
        "def calc(option, num1 = 100, num2 = 100):\n",
        "\n",
        "  if option == \"더하기\":\n",
        "    total = num1 + num2\n",
        "  elif option == \"곱하기\":\n",
        "    total = num1 * num2\n",
        "  else:\n",
        "    total = 0\n",
        "\n",
        "  return total\n",
        "```\n",
        "\n",
        "#### callback function 으로 구현할 때 지켜야 할 사항\n",
        "1. \"더하기\" 는 add(), \"곱하기\" 는 mul() 라는 함수를 만듭니다.\n",
        "2. 실제 사용자가 더하기 혹은 곱하기 계산을 시키기 위해 사용할 함수 이름은 calc() 입니다.\n",
        "3. 위 샘플 함수내에 조건문에 else 는 무시합니다.\n",
        "4. 위 샘플 함수처럼 숫자값을 입력하지 않으면 기본적으로 각각 100 을 할당하게 해주세요.\n"
      ]
    },
    {
      "cell_type": "markdown",
      "metadata": {
        "colab_type": "text",
        "id": "SAuRTqmvgpHF"
      },
      "source": [
        "# O\n"
      ]
    },
    {
      "cell_type": "code",
      "metadata": {
        "colab_type": "code",
        "id": "gKQnUR3pQaK7",
        "colab": {}
      },
      "source": [
        "# 여기에 코드를 구현해주세요.\n",
        "\n",
        "def add(a,b):\n",
        "    return a + b\n",
        "\n",
        "def mul(a,b):\n",
        "    return a * b\n",
        "\n",
        "def calc(option, a = 100, b = 100):\n",
        " \n",
        "  if option == add:\n",
        "    total = a + b\n",
        "    return total\n",
        "  elif option == mul:\n",
        "    total = a * b\n",
        "    return total\n"
      ],
      "execution_count": null,
      "outputs": []
    },
    {
      "cell_type": "code",
      "metadata": {
        "colab_type": "code",
        "id": "Fkv2-I4uQoXc",
        "colab": {
          "base_uri": "https://localhost:8080/",
          "height": 36
        },
        "outputId": "83f1eda1-8265-47c3-f097-87f4c9f7e95b"
      },
      "source": [
        "# 코드 실행 예\n",
        "\n",
        "calc(add)"
      ],
      "execution_count": null,
      "outputs": [
        {
          "output_type": "execute_result",
          "data": {
            "text/plain": [
              "200"
            ]
          },
          "metadata": {
            "tags": []
          },
          "execution_count": 165
        }
      ]
    },
    {
      "cell_type": "code",
      "metadata": {
        "colab_type": "code",
        "id": "5Yu89EijQtvj",
        "colab": {
          "base_uri": "https://localhost:8080/",
          "height": 36
        },
        "outputId": "007d0b2e-fd16-4373-9ea2-e554d65c1e97"
      },
      "source": [
        "# 코드 실행 예\n",
        "\n",
        "calc(mul, 3, 3)"
      ],
      "execution_count": null,
      "outputs": [
        {
          "output_type": "execute_result",
          "data": {
            "text/plain": [
              "9"
            ]
          },
          "metadata": {
            "tags": []
          },
          "execution_count": 166
        }
      ]
    },
    {
      "cell_type": "markdown",
      "metadata": {
        "colab_type": "text",
        "id": "4vIReE3tT6yC"
      },
      "source": [
        "### 22. map 함수로 반복문 없이 간편하게 리스트의 모든 요소를 사용\n",
        "\n",
        "(5 점)\n",
        "\n",
        "```purchased_dates``` 라는 리스트에는 **년/월/일** 형태로 날짜가 저장되어 있습니다.\n",
        "\n",
        "각각 날짜가 표현된 문자열(str) 을 년, 월, 일 로 분리하여 리스트 형태로 만들고, ```map()``` 함수로 리스트 형태로 문자열(str) 을 넣으면 각각 분리되어 아래와 같이 출력되게 코드를 작성해주세요.\n",
        "\n",
        "**함수, 람다함수 등 기능 구현은 자유롭게 하시되**, map() 함수로 테스트한 결과도 함께 작성해주세요.\n",
        "\n",
        "저는 아래와 같이 함수를 작성하여 구현해본 예제를 올려드립니다.\n",
        "\n",
        "**반드시 함수로만 구현해야 하는건 아닙니다.**\n",
        "\n"
      ]
    },
    {
      "cell_type": "markdown",
      "metadata": {
        "colab_type": "text",
        "id": "c0xhX0wtgp6A"
      },
      "source": [
        "# O\n"
      ]
    },
    {
      "cell_type": "code",
      "metadata": {
        "colab_type": "code",
        "id": "dR_ubUHzV-RF",
        "colab": {
          "base_uri": "https://localhost:8080/",
          "height": 92
        },
        "outputId": "fde7dc49-9f9f-4676-97c7-4bd6abb0d727"
      },
      "source": [
        "purchased_dates = [\"2020/01/03\", \"2019/12/11\", \"2019/11/10\", \"2018/07/22\"]\n",
        "\n",
        "# 위 purchased_dates 는 삭제하지 마시고 활용하여 아래에 코드를 구현해주세요.\n",
        "\n",
        "sp = [purchased_dates[0].split(\"/\"), purchased_dates[1].split(\"/\"), purchased_dates[2].split(\"/\"), purchased_dates[3].split(\"/\")]\n",
        "\n",
        "list(map(list, sp))"
      ],
      "execution_count": null,
      "outputs": [
        {
          "output_type": "execute_result",
          "data": {
            "text/plain": [
              "[['2020', '01', '03'],\n",
              " ['2019', '12', '11'],\n",
              " ['2019', '11', '10'],\n",
              " ['2018', '07', '22']]"
            ]
          },
          "metadata": {
            "tags": []
          },
          "execution_count": 234
        }
      ]
    },
    {
      "cell_type": "code",
      "metadata": {
        "colab_type": "code",
        "id": "2lBYBERoWhnz",
        "colab": {
          "base_uri": "https://localhost:8080/",
          "height": 91
        },
        "outputId": "e46bc14a-2e59-487c-ca99-a908a9585cf0"
      },
      "source": [
        "# 실행 예 입니다. map() 만 사용하시면 위에 구현하신 코드에 맞게끔 출력하면 됩니다.\n",
        "\n",
        "list(map(split_dates, purchased_dates))"
      ],
      "execution_count": null,
      "outputs": [
        {
          "output_type": "execute_result",
          "data": {
            "text/plain": [
              "[['2020', '01', '03'],\n",
              " ['2019', '12', '11'],\n",
              " ['2019', '11', '10'],\n",
              " ['2018', '07', '22']]"
            ]
          },
          "metadata": {
            "tags": []
          },
          "execution_count": 16
        }
      ]
    },
    {
      "cell_type": "markdown",
      "metadata": {
        "colab_type": "text",
        "id": "iNDE2amp_LHI"
      },
      "source": [
        "### 23. 리스트에서 사과만 뽑기\n",
        "(3 점)\n",
        "\n",
        "'사과'와 다른 과일들이 섞여 있는 fruits 리스트가 있습니다.\n",
        "\n",
        "이 중에서 '사과'만 뽑을 수 있도록 ```filter()``` 를 활용하여 구현해주세요."
      ]
    },
    {
      "cell_type": "markdown",
      "metadata": {
        "colab_type": "text",
        "id": "DnGkWkQEgqfw"
      },
      "source": [
        "# O\n"
      ]
    },
    {
      "cell_type": "code",
      "metadata": {
        "colab_type": "code",
        "id": "Y1PLSKs0-8mQ",
        "colab": {}
      },
      "source": [
        "fruits = [\"사과\", \"배\", \"바나나\", \"딸기\", \"바나나\", \"사과\", \"배\", \"망고\", \"망고\", \"사과\", \"사과\"]"
      ],
      "execution_count": null,
      "outputs": []
    },
    {
      "cell_type": "code",
      "metadata": {
        "colab_type": "code",
        "id": "5CYKZp3ngJ-A",
        "colab": {
          "base_uri": "https://localhost:8080/",
          "height": 36
        },
        "outputId": "1f3ff947-198f-4f50-f621-05bd04698172"
      },
      "source": [
        "# 아래 줄에 filter() 코드를 작성해서 '사과' 만 추출해주세요.\n",
        "list(filter(lambda data : True if data == \"사과\" else False, fruits ))"
      ],
      "execution_count": null,
      "outputs": [
        {
          "output_type": "execute_result",
          "data": {
            "text/plain": [
              "['사과', '사과', '사과', '사과']"
            ]
          },
          "metadata": {
            "tags": []
          },
          "execution_count": 119
        }
      ]
    },
    {
      "cell_type": "markdown",
      "metadata": {
        "colab_type": "text",
        "id": "eILjlLApgf8o"
      },
      "source": [
        "### 24. reduce 로 1부터 100까지 더하는 코드 작성\n",
        "(4 점)\n",
        "\n",
        "1 부터 100을 더하여 총합이 5050 이 되도록 코드를 작성해주세요."
      ]
    },
    {
      "cell_type": "markdown",
      "metadata": {
        "colab_type": "text",
        "id": "nejbvEgRgrBK"
      },
      "source": [
        "# O\n"
      ]
    },
    {
      "cell_type": "code",
      "metadata": {
        "colab_type": "code",
        "id": "kmXAa8rjgRXQ",
        "colab": {
          "base_uri": "https://localhost:8080/",
          "height": 36
        },
        "outputId": "297df1df-860d-462b-a730-4e2e1ce0a68e"
      },
      "source": [
        "from functools import reduce\n",
        "\n",
        "# 아래 줄에 reduce() 로 구현해주세요.\n",
        "\n",
        "ls = range(101)\n",
        "reduce(lambda x,y: x+y, ls)\n"
      ],
      "execution_count": null,
      "outputs": [
        {
          "output_type": "execute_result",
          "data": {
            "text/plain": [
              "5050"
            ]
          },
          "metadata": {
            "tags": []
          },
          "execution_count": 113
        }
      ]
    },
    {
      "cell_type": "markdown",
      "metadata": {
        "id": "ON_hQvYgskqp",
        "colab_type": "text"
      },
      "source": [
        "### 25. Decorator 함수 내부 코드가 실행되는 순서\n",
        "(5 점)\n",
        "\n",
        "아래는 Decorator 함수를 활용하여 사용자 이름을 입력 받아 해당 이름이 nameList 에 있으면 \"안녕하세요! ??님.\" 을 출력합니다.\n",
        "\n",
        "#### 구현해야 할 내용\n",
        "- 사용자가 hello() 를 호출 합니다.\n",
        "- 사용자에게 이름을 입력 받습니다. ```input()```\n",
        "- ```nameList``` 에서 입력된 이름과 비교 합니다.\n",
        "- 해당 이름을 상단에 ```name``` 변수에 덮어씁니다.\n",
        "- hello 함수에 ```print()``` 문에서 ```\"안녕하세요! ??님.\"``` 을 출력합니다.\n",
        "\n",
        "#### 참고\n",
        "- 코드를 구현하다보면 입력된 이름과 비교하여 정상적으로 출력했으나, 바로 다음줄에 \"이름이 없습니다.\" 가 출력되는 문제가 생길 수도 있습니다. \n",
        "- 아래 구현 방법보다 Decorator 함수를 활용하여 더 나은 방법으로도 코드를 구현할 수 있습니다. 그럴땐 아래 가이드를 삭제하고 위 **구현해야 할 내용**을 참고하여 직접 작성하셔도 좋습니다."
      ]
    },
    {
      "cell_type": "markdown",
      "metadata": {
        "colab_type": "text",
        "id": "JoXy9eTEgrzD"
      },
      "source": [
        "# O\n"
      ]
    },
    {
      "cell_type": "code",
      "metadata": {
        "colab_type": "code",
        "id": "UaBvWHBbgxeK",
        "colab": {}
      },
      "source": [
        "name = \"\"\n",
        "\n",
        "def auth(func):\n",
        "  def wrapper(*args, **kwargs):\n",
        "    \n",
        "    nameList = [\"Park\", \"Kim\", \"Lee\"]\n",
        "    \n",
        "    input_name = input(\"이름 : \")\n",
        "\n",
        "    if input_name in nameList :\n",
        "      \n",
        "      global name\n",
        "      name = input_name\n",
        "\n",
        "      result = func(*args, **kwargs)\n",
        "      \n",
        "      return result\n",
        "  return wrapper"
      ],
      "execution_count": null,
      "outputs": []
    },
    {
      "cell_type": "code",
      "metadata": {
        "id": "MWmDBIqgEodh",
        "colab_type": "code",
        "colab": {}
      },
      "source": [
        "@auth\n",
        "def hello():\n",
        "  print(\"안녕하세요! {} 님.\".format(name))"
      ],
      "execution_count": null,
      "outputs": []
    },
    {
      "cell_type": "code",
      "metadata": {
        "id": "i4aDZnPOxir8",
        "colab_type": "code",
        "colab": {
          "base_uri": "https://localhost:8080/",
          "height": 55
        },
        "outputId": "9e69047d-10d5-4107-9729-645fcc36f56d"
      },
      "source": [
        "# 실행 예\n",
        "hello()"
      ],
      "execution_count": null,
      "outputs": [
        {
          "output_type": "stream",
          "text": [
            "이름 : Lee\n",
            "안녕하세요! Lee 님.\n"
          ],
          "name": "stdout"
        }
      ]
    },
    {
      "cell_type": "code",
      "metadata": {
        "id": "gRmTM29M2uoe",
        "colab_type": "code",
        "colab": {
          "base_uri": "https://localhost:8080/",
          "height": 54
        },
        "outputId": "ecae243f-6dc9-4060-ab16-3b96472f3fb4"
      },
      "source": [
        "실행 예\n",
        "hello()"
      ],
      "execution_count": null,
      "outputs": [
        {
          "output_type": "stream",
          "text": [
            "이름 : Kim\n",
            "안녕하세요! Kim 님.\n"
          ],
          "name": "stdout"
        }
      ]
    }
  ]
}